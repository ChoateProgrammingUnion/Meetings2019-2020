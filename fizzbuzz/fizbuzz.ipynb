{
 "cells": [
  {
   "cell_type": "markdown",
   "metadata": {},
   "source": [
    "\"Fizz buzz\" is a word game we will use to teach the robots about division. Let's learn computers. You should write a function, fizzbuzz, that will receive a positive integer and return \n",
    "\n",
    "- \"FizzBuzz\" if the number is divisible by 3 and by 5 \n",
    "- \"Fizz\" if the number is divisible by 3;\n",
    "- \"Buzz\" if the number is divisible by 5;\n",
    "\n",
    "The number as a string for other cases.\n",
    "\n",
    "Input: A number as an integer, 0 < number <= 1000\n",
    "\n",
    "Output: The answer as a string.\n",
    "\n",
    "(Problem adapted from checkio)"
   ]
  },
  {
   "cell_type": "code",
   "execution_count": null,
   "metadata": {},
   "outputs": [],
   "source": [
    "def fizzbuzz(n):\n",
    "    # Your code goes in here\n",
    "    return 'fizzbuzz'"
   ]
  },
  {
   "cell_type": "markdown",
   "metadata": {},
   "source": [
    "To run your the test cases, run the cell below."
   ]
  },
  {
   "cell_type": "code",
   "execution_count": null,
   "metadata": {},
   "outputs": [],
   "source": [
    "%run '~/tutorials/fizzbuzz/test_cases'\n",
    "test(globals())"
   ]
  }
 ],
 "metadata": {
  "kernelspec": {
   "display_name": "Python 3",
   "language": "python",
   "name": "python3"
  },
  "language_info": {
   "codemirror_mode": {
    "name": "ipython",
    "version": 3
   },
   "file_extension": ".py",
   "mimetype": "text/x-python",
   "name": "python",
   "nbconvert_exporter": "python",
   "pygments_lexer": "ipython3",
   "version": "3.7.3"
  }
 },
 "nbformat": 4,
 "nbformat_minor": 4
}
